{
 "cells": [
  {
   "cell_type": "code",
   "execution_count": 24,
   "id": "01e098b4-2b12-4541-8a69-df441f7612cd",
   "metadata": {},
   "outputs": [],
   "source": [
    "from kafka import KafkaConsumer\n",
    "from time import sleep\n",
    "from json import dumps,loads\n",
    "import json\n",
    "from s3fs import S3FileSystem"
   ]
  },
  {
   "cell_type": "code",
   "execution_count": 25,
   "id": "1765309c-3998-48ed-9afa-67abd5447080",
   "metadata": {},
   "outputs": [],
   "source": [
    "consumer = KafkaConsumer(\n",
    "    'demo_test',\n",
    "     bootstrap_servers=['51.20.250.74:9092'], #add your IP here\n",
    "    value_deserializer=lambda x: loads(x.decode('utf-8')))"
   ]
  },
  {
   "cell_type": "code",
   "execution_count": null,
   "id": "48ec08e9-4dd6-4d88-960a-e2c95defa3d8",
   "metadata": {},
   "outputs": [
    {
     "name": "stdout",
     "output_type": "stream",
     "text": [
      "{'1995-01-25': {'mean_close': 10840.99608561039, 'min_close': 6660.419922, 'max_close': 16673.30078, 'std_close': 2087.3710367551885, 'mean_volume': 0.0}}\n",
      "{'1999-02-10': {'mean_close': 12879.570026015983, 'min_close': 8858.69043, 'max_close': 18301.68945, 'std_close': 2518.83370878732, 'mean_volume': 97787834.06593406}}\n",
      "{'2003-03-05': {'mean_close': 14116.647474024974, 'min_close': 8409.009766, 'max_close': 20821.05078, 'std_close': 2793.273266707696, 'mean_volume': 410776167.73226774}}\n",
      "{'2007-03-16': {'mean_close': 21118.74341998002, 'min_close': 11015.83984, 'max_close': 31638.2207, 'std_close': 3802.923937364987, 'mean_volume': 2078480352.3476524}}\n",
      "{'2011-04-11': {'mean_close': 22111.970943676326, 'min_close': 16250.26953, 'max_close': 28442.75, 'std_close': 1998.2877427164747, 'mean_volume': 1707547741.3586414}}\n",
      "{'2015-05-12': {'mean_close': 25518.15293140859, 'min_close': 18319.58008, 'max_close': 33154.12109, 'std_close': 3462.277442474416, 'mean_volume': 1833070602.1978023}}\n",
      "{'2019-06-05': {'mean_close': 13310.591638495504, 'min_close': 416.290009, 'max_close': 31084.93945, 'std_close': 13089.764417148372, 'mean_volume': 1029207235.5644356}}\n",
      "{'1968-01-09': {'mean_close': 554.5618085394605, 'min_close': 398.519989, 'max_close': 647.849976, 'std_close': 51.70326478973042, 'mean_volume': 0.0}}\n",
      "{'1972-02-02': {'mean_close': 546.1207896003996, 'min_close': 347.769989, 'max_close': 692.369995, 'std_close': 86.7985234634793, 'mean_volume': 0.0}}\n",
      "{'1976-01-21': {'mean_close': 583.0378315044954, 'min_close': 511.450012, 'max_close': 670.27002, 'std_close': 31.521919033964437, 'mean_volume': 0.0}}\n",
      "{'1980-01-07': {'mean_close': 801.6421674595405, 'min_close': 584.72998, 'max_close': 1053.459961, 'std_close': 118.79322441116356, 'mean_volume': 0.0}}\n",
      "{'1983-12-19': {'mean_close': 1312.4329084045955, 'min_close': 900.140015, 'max_close': 1987.76001, 'std_close': 299.8376828292476, 'mean_volume': 0.0}}\n",
      "{'1987-12-03': {'mean_close': 1883.2215985874125, 'min_close': 1331.339966, 'max_close': 2319.560059, 'std_close': 237.58541007550068, 'mean_volume': 0.0}}\n",
      "{'1991-11-15': {'mean_close': 2663.3385413496503, 'min_close': 2194.790039, 'max_close': 3334.850098, 'std_close': 240.65763212467968, 'mean_volume': 0.0}}\n"
     ]
    }
   ],
   "source": [
    "for c in consumer:\n",
    "    print(c.value)"
   ]
  },
  {
   "cell_type": "code",
   "execution_count": null,
   "id": "a2fd606d-ef60-45b8-94cd-3ad31132fa60",
   "metadata": {},
   "outputs": [],
   "source": [
    "\n",
    "for count, i in enumerate(consumer):\n",
    "    with s3.open(\"s3://kafka-stock-market-tutorial-youtube-darshil/stock_market_{}.json\".format(count), 'w') as file:\n",
    "        json.dump(i.value, file)    "
   ]
  }
 ],
 "metadata": {
  "kernelspec": {
   "display_name": "Python 3 (ipykernel)",
   "language": "python",
   "name": "python3"
  },
  "language_info": {
   "codemirror_mode": {
    "name": "ipython",
    "version": 3
   },
   "file_extension": ".py",
   "mimetype": "text/x-python",
   "name": "python",
   "nbconvert_exporter": "python",
   "pygments_lexer": "ipython3",
   "version": "3.11.4"
  }
 },
 "nbformat": 4,
 "nbformat_minor": 5
}
